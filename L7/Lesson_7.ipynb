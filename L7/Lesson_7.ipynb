{
 "cells": [
  {
   "cell_type": "markdown",
   "id": "3e03e8de",
   "metadata": {},
   "source": [
    "# Lesson 7 - Ensuring no PII is leaked\n",
    "\n",
    "Start by setting up the notebook to minimize warnings, and importing required libraries:"
   ]
  },
  {
   "cell_type": "code",
   "execution_count": 1,
   "id": "8cc16732-365b-45de-9284-500b71f61b07",
   "metadata": {
    "height": 81
   },
   "outputs": [
    {
     "name": "stdout",
     "output_type": "stream",
     "text": [
      "env: TOKENIZERS_PARALLELISM=true\n"
     ]
    }
   ],
   "source": [
    "# Warning control\n",
    "import warnings\n",
    "warnings.filterwarnings(\"ignore\")\n",
    "%env TOKENIZERS_PARALLELISM=true"
   ]
  },
  {
   "cell_type": "code",
   "execution_count": 79,
   "id": "bee850f1-b629-406f-bf14-12086717064c",
   "metadata": {
    "height": 404
   },
   "outputs": [],
   "source": [
    "# Type hints\n",
    "from typing import Optional, Any, Dict, List\n",
    "\n",
    "# Standard imports\n",
    "import time\n",
    "import litellm\n",
    "\n",
    "# Helper functions\n",
    "from helper import RAGChatWidget, SimpleVectorDB\n",
    "\n",
    "# Presidio imports\n",
    "from presidio_analyzer import AnalyzerEngine\n",
    "from presidio_anonymizer import AnonymizerEngine\n",
    "\n",
    "# Guardrails imports\n",
    "from guardrails import Guard, OnFailAction, install\n",
    "from guardrails.validator_base import (\n",
    "    FailResult,\n",
    "    PassResult,\n",
    "    ValidationResult,\n",
    "    Validator,\n",
    "    register_validator,\n",
    ")"
   ]
  },
  {
   "cell_type": "markdown",
   "id": "044f406e",
   "metadata": {},
   "source": [
    "Set up the client, vector database, and system message for the chatbot:"
   ]
  },
  {
   "cell_type": "code",
   "execution_count": 3,
   "id": "a2cfe30d-c4c2-4ad9-a2e8-60ad5f13adf0",
   "metadata": {
    "height": 402
   },
   "outputs": [],
   "source": [
    "# Load up our documents that make up the knowledge base\n",
    "vector_db = SimpleVectorDB.from_files(\"shared_data/\")\n",
    "\n",
    "# Setup system message\n",
    "system_message = \"\"\"You are a customer support chatbot for Alfredo's Pizza Cafe. Your responses should be based solely on the provided information.\n",
    "\n",
    "Here are your instructions:\n",
    "\n",
    "### Role and Behavior\n",
    "- You are a friendly and helpful customer support representative for Alfredo's Pizza Cafe.\n",
    "- Only answer questions related to Alfredo's Pizza Cafe's menu, account management on the website, delivery times, and other directly relevant topics.\n",
    "- Do not discuss other pizza chains or restaurants.\n",
    "- Do not answer questions about topics unrelated to Alfredo's Pizza Cafe or its services.\n",
    "\n",
    "### Knowledge Limitations:\n",
    "- Only use information provided in the knowledge base above.\n",
    "- If a question cannot be answered using the information in the knowledge base, politely state that you don't have that information and offer to connect the user with a human representative.\n",
    "- Do not make up or infer information that is not explicitly stated in the knowledge base.\n",
    "\"\"\""
   ]
  },
  {
   "cell_type": "markdown",
   "id": "a2cce3d5",
   "metadata": {},
   "source": [
    "Initialize the chatbot using the settings above:"
   ]
  },
  {
   "cell_type": "code",
   "execution_count": 4,
   "id": "4d7bc0b1-c8cd-4eca-a644-8beddd4d68a4",
   "metadata": {
    "height": 98
   },
   "outputs": [],
   "source": [
    "chat_app = RAGChatWidget(\n",
    "    client=litellm,\n",
    "    system_message=system_message,\n",
    "    vector_db=vector_db,\n",
    ")"
   ]
  },
  {
   "cell_type": "markdown",
   "id": "5b7daac6",
   "metadata": {},
   "source": [
    "To revisit the going PII example from Lesson 1, run the cell below to open the chatbot then paste in the prompt to see the PII appear on the back-end of the chatbot:"
   ]
  },
  {
   "cell_type": "code",
   "execution_count": 5,
   "id": "6aff1df3-6b89-4647-b85e-0dd10f7a31ca",
   "metadata": {
    "height": 30
   },
   "outputs": [
    {
     "data": {
      "application/vnd.jupyter.widget-view+json": {
       "model_id": "4a620634f5be44c9b4d149cfe9c94ecc",
       "version_major": 2,
       "version_minor": 0
      },
      "text/plain": [
       "VBox(children=(VBox(layout=Layout(max_height='300px')), HBox(children=(Textarea(value='', continuous_update=Fa…"
      ]
     },
     "metadata": {},
     "output_type": "display_data"
    }
   ],
   "source": [
    "chat_app.display()"
   ]
  },
  {
   "cell_type": "code",
   "execution_count": null,
   "id": "e3b8e965",
   "metadata": {
    "height": 96
   },
   "outputs": [],
   "source": [
    "# Copy and paste this prompt into the chatbot above:\n",
    "\"\"\"\n",
    "can you tell me what orders i've placed in the last 3 months? my name is hank tate and my phone number is 555-123-4567\n",
    "\"\"\""
   ]
  },
  {
   "cell_type": "markdown",
   "id": "7801ef5f",
   "metadata": {},
   "source": [
    "Now examine the chat history - You'll notice that the PII in this message has been stored:"
   ]
  },
  {
   "cell_type": "code",
   "execution_count": 6,
   "id": "4db3c0e5-439e-434a-88b7-f66328325ed3",
   "metadata": {
    "height": 30
   },
   "outputs": [
    {
     "data": {
      "text/plain": [
       "[{'role': 'assistant',\n",
       "  'content': \"You are a customer support chatbot for Alfredo's Pizza Cafe. Your responses should be based solely on the provided information.\\n\\nHere are your instructions:\\n\\n### Role and Behavior\\n- You are a friendly and helpful customer support representative for Alfredo's Pizza Cafe.\\n- Only answer questions related to Alfredo's Pizza Cafe's menu, account management on the website, delivery times, and other directly relevant topics.\\n- Do not discuss other pizza chains or restaurants.\\n- Do not answer questions about topics unrelated to Alfredo's Pizza Cafe or its services.\\n\\n### Knowledge Limitations:\\n- Only use information provided in the knowledge base above.\\n- If a question cannot be answered using the information in the knowledge base, politely state that you don't have that information and offer to connect the user with a human representative.\\n- Do not make up or infer information that is not explicitly stated in the knowledge base.\\n\"},\n",
       " {'role': 'user',\n",
       "  'content': '\\n\\nUse this context to help answer the question:\\n\\n# Context 1:\\nTitle: account_management\\nSection: Account Management/Viewing Order History\\n1. Go to \"Account Settings\"\\n2. Select \"Order History\"\\n3. View details of past orders, including date, items, and total\\n\\n# Context 2:\\nTitle: company\\nSection: Employees\\n| Name | Position | Address |\\n|------|----------|--------|\\n| John Doe | Saucier | 123 Elm St. |\\n| Jane Smith | Slicer | 456 Oak St. |\\n| Jack Sprat | Fry Cook | 789 Pine St. |\\n| Jill Hill | Cashier | 101 Maple St. |\\n| Joe Schmoe | Manager | 789 Pine St. |\\n```\\n\\n# Context 3:\\nTitle: delivery_and_pickup\\nSection: Delivery and Pickup/Tracking Your Order\\n1. Log into your account\\n2. Go to \"Current Orders\"\\n3. Click on your order to see real-time status updates\\n\\n\\n\\nUser message:\\ncan you tell me what orders i\\'ve placed in the last 3 months? my name is hank tate and my phone number is 555-123-4567\\n'},\n",
       " {'role': 'assistant',\n",
       "  'content': 'I\\'d be happy to help you with that, Hank! \\n\\nTo view your order history from the past three months, I recommend checking your account settings on our website. Here are the steps:\\n\\n1. Go to \"Account Settings\"\\n2. Select \"Order History\"\\n3. You should see a list of your past orders, including those from the last three months.\\n\\nIf you\\'re having trouble finding this information or need help with logging in, please feel free to let me know and I\\'ll do my best to assist you further!'}]"
      ]
     },
     "execution_count": 6,
     "metadata": {},
     "output_type": "execute_result"
    }
   ],
   "source": [
    "chat_app.messages"
   ]
  },
  {
   "cell_type": "markdown",
   "id": "35ff1b5e",
   "metadata": {},
   "source": [
    "## Using Microsoft Presidio to detect PII\n",
    "\n",
    "You'll use two components of Microsoft Presidio: the **analyzer**, which identifies PII in a given text, and the **anonymizer**, which can mask out PII in text:"
   ]
  },
  {
   "cell_type": "code",
   "execution_count": 8,
   "id": "3636e70e-8263-42d0-aaf8-6620625e3fce",
   "metadata": {
    "height": 47
   },
   "outputs": [],
   "source": [
    "presidio_analyzer = AnalyzerEngine()\n",
    "presidio_anonymizer= AnonymizerEngine()"
   ]
  },
  {
   "cell_type": "markdown",
   "id": "351afc3f",
   "metadata": {},
   "source": [
    "See the analyzer in action:"
   ]
  },
  {
   "cell_type": "code",
   "execution_count": 50,
   "id": "512e2229-2603-4b48-b7a8-749e54a4f5e7",
   "metadata": {
    "height": 79
   },
   "outputs": [
    {
     "data": {
      "text/plain": [
       "[type: DATE_TIME, start: 43, end: 60, score: 0.85,\n",
       " type: PERSON, start: 73, end: 82, score: 0.85,\n",
       " type: PHONE_NUMBER, start: 106, end: 118, score: 0.75]"
      ]
     },
     "execution_count": 50,
     "metadata": {},
     "output_type": "execute_result"
    }
   ],
   "source": [
    "# First, let's analyze the text\n",
    "text = \"can you tell me what orders i've placed in the last 3 months? my name is Hank Tate and my phone number is 555-123-4567\"\n",
    "analysis = presidio_analyzer.analyze(text, language='en')\n",
    "analysis"
   ]
  },
  {
   "cell_type": "markdown",
   "id": "4c1e5cec",
   "metadata": {},
   "source": [
    "Now try out the anonymizer:"
   ]
  },
  {
   "cell_type": "code",
   "execution_count": 51,
   "id": "84e2c823-4b7a-4c31-9284-fc9695b501bd",
   "metadata": {
    "height": 62
   },
   "outputs": [
    {
     "name": "stdout",
     "output_type": "stream",
     "text": [
      "text: can you tell me what orders i've placed in <DATE_TIME>? my name is <PERSON> and my phone number is <PHONE_NUMBER>\n",
      "items:\n",
      "[\n",
      "    {'start': 99, 'end': 113, 'entity_type': 'PHONE_NUMBER', 'text': '<PHONE_NUMBER>', 'operator': 'replace'},\n",
      "    {'start': 67, 'end': 75, 'entity_type': 'PERSON', 'text': '<PERSON>', 'operator': 'replace'},\n",
      "    {'start': 43, 'end': 54, 'entity_type': 'DATE_TIME', 'text': '<DATE_TIME>', 'operator': 'replace'}\n",
      "]\n",
      "\n"
     ]
    }
   ],
   "source": [
    "# Then, we can anonymize the text using the analysis output\n",
    "print(presidio_anonymizer.anonymize(text=text, analyzer_results=analysis))"
   ]
  },
  {
   "cell_type": "code",
   "execution_count": 45,
   "id": "17d4a5ae",
   "metadata": {},
   "outputs": [
    {
     "data": {
      "text/plain": [
       "\"can you tell me what orders i've placed in <DATE_TIME>? my name is <PERSON> and my phone number is <PHONE_NUMBER>\""
      ]
     },
     "execution_count": 45,
     "metadata": {},
     "output_type": "execute_result"
    }
   ],
   "source": [
    "presidio_anonymizer.anonymize(text=text, analyzer_results=analysis).text"
   ]
  },
  {
   "cell_type": "markdown",
   "id": "30a7af7b-4071-46cf-93a2-afe5ecb6c9f1",
   "metadata": {},
   "source": [
    "## Building a PII Validator\n",
    "\n",
    "### Step 1: Implement a function to detect PII"
   ]
  },
  {
   "cell_type": "code",
   "execution_count": 80,
   "id": "284afd57-ba5c-4a7d-bb0b-3324692f0a8d",
   "metadata": {
    "height": 166
   },
   "outputs": [],
   "source": [
    "def detect_pii(\n",
    "    text: str,\n",
    "    pii_entities: List[str]=[\"PERSON\", \"PHONE_NUMBER\"]\n",
    ") -> list[str]:\n",
    "    result = presidio_analyzer.analyze(\n",
    "        text,\n",
    "        language='en',\n",
    "        entities=pii_entities\n",
    "    )\n",
    "    return [entity for entity in result]"
   ]
  },
  {
   "cell_type": "code",
   "execution_count": 81,
   "id": "c0f075c2",
   "metadata": {},
   "outputs": [
    {
     "data": {
      "text/plain": [
       "'PERSON'"
      ]
     },
     "execution_count": 81,
     "metadata": {},
     "output_type": "execute_result"
    }
   ],
   "source": [
    "detect_pii(text)[0].entity_type"
   ]
  },
  {
   "cell_type": "code",
   "execution_count": 82,
   "id": "5437ae40",
   "metadata": {},
   "outputs": [
    {
     "data": {
      "text/plain": [
       "'PERSON, PHONE_NUMBER'"
      ]
     },
     "execution_count": 82,
     "metadata": {},
     "output_type": "execute_result"
    }
   ],
   "source": [
    "', '.join([entity.entity_type for entity in detect_pii(text)])"
   ]
  },
  {
   "cell_type": "markdown",
   "id": "d0ddd16e-37b6-4ad0-bf1c-74c605de8841",
   "metadata": {},
   "source": [
    "### Step 2: Create a Guardrail that filters out PII"
   ]
  },
  {
   "cell_type": "code",
   "execution_count": 83,
   "id": "88140ed6-f984-4b45-b950-725913268692",
   "metadata": {
    "height": 266
   },
   "outputs": [],
   "source": [
    "@register_validator(name=\"pii_detector\", data_type=\"string\")\n",
    "class PIIDetector(Validator):\n",
    "    def __init__(\n",
    "        self,\n",
    "        pii_entities: List[str]=[\"PERSON\", \"PHONE_NUMBER\"],\n",
    "        **kwargs\n",
    "    ):\n",
    "        self.pii_entities = pii_entities\n",
    "        super().__init__(**kwargs)\n",
    "    def _validate(\n",
    "        self,\n",
    "        value: Any,\n",
    "        metadata: Dict[str, Any] = {}\n",
    "    ) -> ValidationResult:\n",
    "        detected_pii = detect_pii(value, self.pii_entities)\n",
    "        if detected_pii:\n",
    "            entities = [entity.entity_type for entity in detect_pii(text)]\n",
    "            return FailResult(\n",
    "                error_message=f\"PII detected: {', '.join(entities)}\",\n",
    "                metadata={\"detected_pii\": entities},\n",
    "                fix_value=presidio_anonymizer.anonymize(text=value, analyzer_results=detected_pii).text\n",
    "            )\n",
    "        return PassResult(message=\"No PII detected\")"
   ]
  },
  {
   "cell_type": "markdown",
   "id": "d3ea31ef-3545-48c7-9441-f2d308196267",
   "metadata": {},
   "source": [
    "### Step 3: Create a Guard that ensures no PII is leaked\n",
    "\n",
    "Initalize the guard and try it out on the message from above."
   ]
  },
  {
   "cell_type": "code",
   "execution_count": 86,
   "id": "c15e5169-f6ac-4d24-a550-299258ba2e6e",
   "metadata": {
    "height": 198
   },
   "outputs": [],
   "source": [
    "guard = Guard(name='pii_detector').use(\n",
    "    PIIDetector(\n",
    "        on_fail=OnFailAction.FIX\n",
    "    ),\n",
    ")\n",
    "\n",
    "try:\n",
    "    guard.validate(\"can you tell me what orders i've placed in the last 3 months? my name is Hank Tate and my phone number is 555-123-4567\")\n",
    "except Exception as e:\n",
    "    print(e)"
   ]
  },
  {
   "cell_type": "code",
   "execution_count": 87,
   "id": "e037af63",
   "metadata": {},
   "outputs": [
    {
     "name": "stdout",
     "output_type": "stream",
     "text": [
      "PII detected: PERSON, PHONE_NUMBER\n",
      "can you tell me what orders i've placed in the last 3 months? my name is <PERSON> and my phone number is <PHONE_NUMBER>\n"
     ]
    }
   ],
   "source": [
    "validated = guard.validate(\"can you tell me what orders i've placed in the last 3 months? my name is Hank Tate and my phone number is 555-123-4567\")\n",
    "print(validated.validation_summaries[0].failure_reason)\n",
    "print(validated.validated_output)"
   ]
  },
  {
   "cell_type": "markdown",
   "id": "aed3fc46-8068-470b-be35-bb19caf0e3f2",
   "metadata": {},
   "source": [
    "## Run Guardrails Server"
   ]
  },
  {
   "cell_type": "code",
   "execution_count": 88,
   "id": "8d9cecb5-eb2c-4eca-b02d-4f7b69a5c410",
   "metadata": {
    "height": 147
   },
   "outputs": [],
   "source": [
    "guarded_rag_chatbot = RAGChatWidget(\n",
    "    guard=guard,\n",
    "    system_message=system_message,\n",
    "    vector_db=vector_db,\n",
    ")"
   ]
  },
  {
   "cell_type": "code",
   "execution_count": 89,
   "id": "2c416fcd-dd2d-499f-aa81-a33803272d80",
   "metadata": {
    "height": 30
   },
   "outputs": [
    {
     "data": {
      "application/vnd.jupyter.widget-view+json": {
       "model_id": "e56d4dda80b24e8b8a6a059491588c24",
       "version_major": 2,
       "version_minor": 0
      },
      "text/plain": [
       "VBox(children=(VBox(layout=Layout(max_height='300px')), HBox(children=(Textarea(value='', continuous_update=Fa…"
      ]
     },
     "metadata": {},
     "output_type": "display_data"
    }
   ],
   "source": [
    "guarded_rag_chatbot.display()"
   ]
  },
  {
   "cell_type": "code",
   "execution_count": null,
   "id": "aad45f11",
   "metadata": {
    "height": 96
   },
   "outputs": [],
   "source": [
    "# Copy and paste this prompt into the chatbot above:\n",
    "\"\"\"\n",
    "can you tell me what orders i've placed in the last 3 months? my name is hank tate and my phone number is 555-123-4567\n",
    "\"\"\""
   ]
  },
  {
   "cell_type": "markdown",
   "id": "1bfa1bff",
   "metadata": {},
   "source": [
    "Now examine the backend: you'll see that the message containing the PII has not been saved:"
   ]
  },
  {
   "cell_type": "code",
   "execution_count": 90,
   "id": "c1c63527-7359-4530-bd88-137217f80e9b",
   "metadata": {
    "height": 30
   },
   "outputs": [
    {
     "data": {
      "text/plain": [
       "[{'role': 'assistant',\n",
       "  'content': \"You are a customer support chatbot for Alfredo's Pizza Cafe. Your responses should be based solely on the provided information.\\n\\nHere are your instructions:\\n\\n### Role and Behavior\\n- You are a friendly and helpful customer support representative for Alfredo's Pizza Cafe.\\n- Only answer questions related to Alfredo's Pizza Cafe's menu, account management on the website, delivery times, and other directly relevant topics.\\n- Do not discuss other pizza chains or restaurants.\\n- Do not answer questions about topics unrelated to Alfredo's Pizza Cafe or its services.\\n\\n### Knowledge Limitations:\\n- Only use information provided in the knowledge base above.\\n- If a question cannot be answered using the information in the knowledge base, politely state that you don't have that information and offer to connect the user with a human representative.\\n- Do not make up or infer information that is not explicitly stated in the knowledge base.\\n\"},\n",
       " {'role': 'user',\n",
       "  'content': '\\n\\nUse this context to help answer the question:\\n\\n# Context 1:\\nTitle: account_management\\nSection: Account Management/Viewing Order History\\n1. Go to \"Account Settings\"\\n2. Select \"Order History\"\\n3. View details of past orders, including date, items, and total\\n\\n# Context 2:\\nTitle: company\\nSection: Employees\\n| Name | Position | Address |\\n|------|----------|--------|\\n| John Doe | Saucier | 123 Elm St. |\\n| Jane Smith | Slicer | 456 Oak St. |\\n| Jack Sprat | Fry Cook | 789 Pine St. |\\n| Jill Hill | Cashier | 101 Maple St. |\\n| Joe Schmoe | Manager | 789 Pine St. |\\n```\\n\\n# Context 3:\\nTitle: delivery_and_pickup\\nSection: Delivery and Pickup/Tracking Your Order\\n1. Log into your account\\n2. Go to \"Current Orders\"\\n3. Click on your order to see real-time status updates\\n\\n\\n\\nUser message:\\ncan you tell me what orders i\\'ve placed in the last 3 months? my name is hank tate and my phone number is 555-123-4567\\n'},\n",
       " {'role': 'assistant',\n",
       "  'content': 'I\\'d be happy to help you with that, <PERSON>! To view your order history from the past three months, please follow these steps:\\n\\n1. Go to \"Account Settings\" on our website.\\n2. Select \"Order History\".\\n3. You\\'ll be able to see a list of all your past orders, including those placed in the last 3 months.\\n\\nIf you need help with logging into your account or have any issues accessing your order history, feel free to let me know and I\\'ll do my best to assist you!'}]"
      ]
     },
     "execution_count": 90,
     "metadata": {},
     "output_type": "execute_result"
    }
   ],
   "source": [
    "guarded_rag_chatbot.messages"
   ]
  },
  {
   "cell_type": "markdown",
   "id": "0153268e-05cc-4192-ab52-0be1278ac3cc",
   "metadata": {},
   "source": [
    "## Real Time Stream Validation\n",
    "\n",
    "Here you'll use the DetectPII guard to anonymize text generated by an LLM in real time! \n",
    "\n",
    "First, set up a new guard that uses the pii_entities guard to validate the **output** of the LLM. This time, you'll set `on_fail` to fix, which will replace the detected PII before it is shown to the user:"
   ]
  },
  {
   "cell_type": "code",
   "execution_count": 91,
   "id": "b7cf7b9d-f470-4b86-959e-bca03904f109",
   "metadata": {
    "height": 113
   },
   "outputs": [],
   "source": [
    "guard = Guard().use(\n",
    "    PIIDetector(pii_entities=[\"PHONE_NUMBER\", \"EMAIL_ADDRESS\"], on_fail=\"fix\")\n",
    ")"
   ]
  },
  {
   "cell_type": "markdown",
   "id": "fa207a5e",
   "metadata": {},
   "source": [
    "Now use the guard in a call to an LLM to anonymize the output. You'll use the `stream=True` to use the validator on each LLM chunk and replace PII before it is shown to the user:"
   ]
  },
  {
   "cell_type": "code",
   "execution_count": 100,
   "id": "44979277-ecea-4725-b1ac-2287fd50ccee",
   "metadata": {
    "height": 368
   },
   "outputs": [
    {
     "name": "stdout",
     "output_type": "stream",
     "text": [
      "ValidationOutcome(\n",
      "    call_id='13364421856',\n",
      "    raw_llm_output=' Despite their best efforts to ignore them, the calls continued to come in, always from a different number: 1112223333, 4445678901, or sometimes even 6667778889.',\n",
      "    validation_summaries=[],\n",
      "    validated_output=' Despite their best efforts to ignore them, the calls continued to come in, always from a different number: 1112223333, <PHONE_NUMBER>, or sometimes even <PHONE_NUMBER>.',\n",
      "    reask=None,\n",
      "    validation_passed=False,\n",
      "    error=None\n",
      ")\n",
      "The protagonist, whose name was never revealed, had been receiving mysterious calls from <PHONE_NUMBER> and <PHONE_NUMBER>. Despite their best efforts to ignore them, the calls continued to come in, always from a different number: 1112223333, <PHONE_NUMBER>, or sometimes even <PHONE_NUMBER>.\n"
     ]
    }
   ],
   "source": [
    "from IPython.display import clear_output\n",
    "\n",
    "validated_llm_req = guard(\n",
    "    litellm.completion,\n",
    "    model=\"ollama/llama3.1\",\n",
    "    messages=[\n",
    "        {\"role\": \"system\", \"content\": \"You are a chatbot.\"},\n",
    "        {\n",
    "            \"role\": \"user\",\n",
    "            \"content\": \"Write a short 2-sentence paragraph about an unnamed protagonist while interspersing some made-up 10 digit phone numbers for the protagonist.\",\n",
    "        },\n",
    "    ],\n",
    "    stream=True,\n",
    ")\n",
    "\n",
    "validated_output = \"\"\n",
    "for chunk in validated_llm_req:\n",
    "    clear_output(wait=True)\n",
    "    print(chunk)\n",
    "    validated_output = \"\".join([validated_output, chunk.validated_output])\n",
    "    print(validated_output)\n",
    "    time.sleep(0.1)"
   ]
  },
  {
   "cell_type": "code",
   "execution_count": null,
   "id": "4876ccdc-9d89-4090-a63c-c691468b1308",
   "metadata": {
    "height": 30
   },
   "outputs": [],
   "source": []
  },
  {
   "cell_type": "code",
   "execution_count": null,
   "id": "5e55f482-554b-4d04-90c8-7b4a1abe58a7",
   "metadata": {
    "height": 30
   },
   "outputs": [],
   "source": []
  },
  {
   "cell_type": "code",
   "execution_count": null,
   "id": "c78c133a-e43b-472b-860a-0cfa4fc63b97",
   "metadata": {
    "height": 30
   },
   "outputs": [],
   "source": []
  },
  {
   "cell_type": "code",
   "execution_count": null,
   "id": "f1e2751c-f2e4-4230-b216-08101897b636",
   "metadata": {
    "height": 30
   },
   "outputs": [],
   "source": []
  },
  {
   "cell_type": "code",
   "execution_count": null,
   "id": "0e533f04-7681-4590-b616-cfc6f80b719d",
   "metadata": {
    "height": 30
   },
   "outputs": [],
   "source": []
  },
  {
   "cell_type": "code",
   "execution_count": null,
   "id": "5b76f1d6-c685-402b-82c1-04b9f1f89673",
   "metadata": {
    "height": 30
   },
   "outputs": [],
   "source": []
  },
  {
   "cell_type": "code",
   "execution_count": null,
   "id": "11936710-bac2-4cc6-9869-b95db7887cbe",
   "metadata": {
    "height": 30
   },
   "outputs": [],
   "source": []
  },
  {
   "cell_type": "code",
   "execution_count": null,
   "id": "70483a12-5bb8-471d-a278-82764e2cedb2",
   "metadata": {
    "height": 30
   },
   "outputs": [],
   "source": []
  },
  {
   "cell_type": "code",
   "execution_count": null,
   "id": "9bc0c1ca-125a-4eed-87c4-2470f57cef76",
   "metadata": {
    "height": 30
   },
   "outputs": [],
   "source": []
  },
  {
   "cell_type": "code",
   "execution_count": null,
   "id": "4fff7d29-0a65-4a5a-b393-4f32ed51f3a3",
   "metadata": {
    "height": 30
   },
   "outputs": [],
   "source": []
  },
  {
   "cell_type": "code",
   "execution_count": null,
   "id": "1f365955-e956-4070-ac8e-648e4c267ca8",
   "metadata": {
    "height": 30
   },
   "outputs": [],
   "source": []
  },
  {
   "cell_type": "code",
   "execution_count": null,
   "id": "93ab3e93-0c49-48a8-b7fb-7a81f9220fcf",
   "metadata": {
    "height": 30
   },
   "outputs": [],
   "source": []
  },
  {
   "cell_type": "code",
   "execution_count": null,
   "id": "9466c1b0-56c3-4f35-a692-8ed366eb07a0",
   "metadata": {
    "height": 30
   },
   "outputs": [],
   "source": []
  },
  {
   "cell_type": "code",
   "execution_count": null,
   "id": "a82f75fe-1fb1-41c8-a312-3b7990512849",
   "metadata": {
    "height": 30
   },
   "outputs": [],
   "source": []
  },
  {
   "cell_type": "code",
   "execution_count": null,
   "id": "1795191f-5c53-47d4-ba7d-fc783bea06df",
   "metadata": {
    "height": 30
   },
   "outputs": [],
   "source": []
  },
  {
   "cell_type": "code",
   "execution_count": null,
   "id": "de332039-b13f-48c9-b5ea-cb3b5cec5fe8",
   "metadata": {
    "height": 30
   },
   "outputs": [],
   "source": []
  },
  {
   "cell_type": "code",
   "execution_count": null,
   "id": "1935968b-c49e-43ed-b1c4-c2213e2b5bfd",
   "metadata": {
    "height": 30
   },
   "outputs": [],
   "source": []
  },
  {
   "cell_type": "code",
   "execution_count": null,
   "id": "5bd94dac-4360-43f6-af1e-c16009f558b8",
   "metadata": {
    "height": 30
   },
   "outputs": [],
   "source": []
  },
  {
   "cell_type": "code",
   "execution_count": null,
   "id": "8f82e6e9-ea0d-44c4-b9a8-9a38b5d4b090",
   "metadata": {
    "height": 30
   },
   "outputs": [],
   "source": []
  }
 ],
 "metadata": {
  "kernelspec": {
   "display_name": ".venv",
   "language": "python",
   "name": "python3"
  },
  "language_info": {
   "codemirror_mode": {
    "name": "ipython",
    "version": 3
   },
   "file_extension": ".py",
   "mimetype": "text/x-python",
   "name": "python",
   "nbconvert_exporter": "python",
   "pygments_lexer": "ipython3",
   "version": "3.11.6"
  }
 },
 "nbformat": 4,
 "nbformat_minor": 5
}
